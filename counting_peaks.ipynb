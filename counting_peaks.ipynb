{
 "cells": [
  {
   "cell_type": "markdown",
   "id": "c1042786",
   "metadata": {},
   "source": [
    "# Functions"
   ]
  },
  {
   "cell_type": "markdown",
   "id": "9259e0dd",
   "metadata": {},
   "source": [
    "## Import Functions "
   ]
  },
  {
   "cell_type": "code",
   "execution_count": 1,
   "id": "660096e7",
   "metadata": {},
   "outputs": [],
   "source": [
    "# Use to embed images in Jupyter Notebook\n",
    "from IPython.display import Image\n",
    "\n",
    "# Importing necesary modules\n",
    "import sys\n",
    "import os\n",
    "import glob \n",
    "from os import listdir\n",
    "from os import path\n",
    "\n",
    "# Working with arrays \n",
    "import numpy as np\n",
    "\n",
    "# Working with fits files and WCS objects \n",
    "import astropy.units as u\n",
    "from astropy.time import Time \n",
    "\n",
    "# plotting and drawing modules \n",
    "from matplotlib import pyplot as plt\n",
    "import matplotlib as mpl\n",
    "\n",
    "#additional libraries needed for AFINO\n",
    "import scipy.optimize as opt \n",
    "import scipy.signal as sig\n",
    "\n",
    "# import reader for IDL files \n",
    "from scipy.io import readsav as idlsave\n",
    "\n",
    "# import stats library \n",
    "import scipy.stats as stats "
   ]
  },
  {
   "cell_type": "markdown",
   "id": "71035436",
   "metadata": {},
   "source": [
    "## Defined Functions"
   ]
  },
  {
   "cell_type": "code",
   "execution_count": 2,
   "id": "7111fa00",
   "metadata": {},
   "outputs": [],
   "source": [
    "# Define Reconnection Flux Rate  \n",
    "def recrate(flx,h):\n",
    "    '''Compute the difference formula for f'(a) with step size h.\n",
    "\n",
    "    Parameters\n",
    "    ----------\n",
    "    flx : array containing reconection flux \n",
    "    h: contant cadance beyween observations \n",
    "    Returns\n",
    "    -------\n",
    "    recrate: reconection flux(a+h) - reconection flux(a-h))/2h\n",
    "        [negative reconnection rate, positive reconnection rate] \n",
    "    '''    \n",
    "    \n",
    "    recrate    = np.zeros((2,len(flx[1,:])))\n",
    "    \n",
    "    nflux = flx[0] \n",
    "    pflux = flx[2]\n",
    "    recrate[0] = np.gradient(nflux,h,edge_order =2)\n",
    "    recrate[1] = np.gradient(pflux,h,edge_order =2)\n",
    "    \n",
    "    return recrate"
   ]
  },
  {
   "cell_type": "code",
   "execution_count": 3,
   "id": "f417c07e",
   "metadata": {},
   "outputs": [],
   "source": [
    "# Check if .sav file exists \n",
    "def check(filename,bstr,wvstr):\n",
    "    '''\n",
    "    Written by Marcel \n",
    "    Oct. 21, 2020\n",
    "    \n",
    "    inputs: \n",
    "            filename -- name of the reconnection flux idl save file\n",
    "            bstr     -- \n",
    "                        BLOS - normal component taken as the line of sight\n",
    "                        BRAD - normal component taken as the radial magnatic field (B_r)\n",
    "            wvstr    -- \n",
    "    output: \n",
    "            savname  -- full filename with extension of the reconnection flux\n",
    "    '''\n",
    "    for i in range(len(bstr)): \n",
    "        if path.exists(filename+bstr[i]+wvstr+\".sav\" ) == True:\n",
    "            return  filename+bstr[i]+wvstr+\".sav\"\n",
    "        else: \n",
    "            print('File not found! This file does not exist.')"
   ]
  },
  {
   "cell_type": "code",
   "execution_count": 4,
   "id": "611fab9f",
   "metadata": {},
   "outputs": [],
   "source": [
    "def extract_ribbon_vars(idlstrct):\n",
    "    '''\n",
    "    Written by Marcel\n",
    "    Oct. 5, 2020\n",
    "    Inputs  --\n",
    "    Outputs --  OPTIONAL (*) \n",
    "                *dosday --?\n",
    "                flx6 -- magnetic reconnection flux for pixel area with I >= median(I)*6\n",
    "                flx8 -- magnetic reconnection flux for pixel area with I >= median(I)*8\n",
    "                flx10 -- magnetic reconnection flux for pixel area with I >= median(I)*10\n",
    "                * area6 --?\n",
    "                * area8 --? \n",
    "                * area10 --?\n",
    "                * ar_area --? \n",
    "                * mflx --?\n",
    "                tim -- UTC time from HMI \n",
    "                * cut --? \n",
    "                * sathr --? \n",
    "                * str_brad --? \n",
    "                * tim_maxnegrecrate --?    \n",
    "                * tim_maxposrecrate --?       \n",
    "                * maxnegrecrate --?        \n",
    "                * maxposrecrate --?         \n",
    "                n_o_satpix -- number of saturated points for a given AIA image          \n",
    "                * bcenx6 --?               \n",
    "                * bceny6 --?             \n",
    "                * bcenx8 --?            \n",
    "                * bceny8 --?            \n",
    "                * bcenx10 --?             \n",
    "                * bceny10 --?            \n",
    "                * dst6 --?                \n",
    "                * dst8 --?               \n",
    "                * dst10 --?               \n",
    "\n",
    "                \n",
    "    \n",
    "    Extract all the idl variables \n",
    "    '''\n",
    "    \n",
    "    flx6                = idlstrct.flx6 \n",
    "    flx8                = idlstrct.flx8\n",
    "    flx10               = idlstrct.flx10 \n",
    "    tim                 = list(idlstrct.tim) #object arrays are not suported by python  \n",
    "    n_o_satpix          = idlstrct.n_o_satpix\n",
    "    # These have been commented out because they are not used in the qpp analysis \n",
    "    #dosday              = idlstrct.dosday\n",
    "    area6               = idlstrct.area6 \n",
    "    area8               = idlstrct.area8 \n",
    "    area10              = idlstrct.area10 \n",
    "    ar_area             = idlstrct.ar_area  \n",
    "    #mflx                = idlstrct.mflx\n",
    "    #cut                 = idlstrct.cut\n",
    "    #satthr              = idlstrct.satthr\n",
    "    #dflxdt              = idlstrct.dflxdt\n",
    "    #str_brad            = idlstrct.str_brad\n",
    "\n",
    "    #tim_maxnegrecrate   = idlstrct.tim_maxnegrecrate \n",
    "    #tim_maxposrecrate   = idlstrct.tim_maxposrecrate   \n",
    "    #maxnegrecrate       = idlstrct.maxnegrecrate\n",
    "    #maxposrecrate       = idlstrct.maxposrecrate \n",
    "    #bcenx6              = idlstrct.bcenx6\n",
    "    #bceny6              = idlstrct.bceny6\n",
    "    #bcenx8              = idlstrct.bcenx8\n",
    "    #bceny8              = idlstrct.bceny8\n",
    "    #bcenx10             = idlstrct.bcenx10\n",
    "    #bceny10             = idlstrct.bceny10\n",
    "    #dst6                = idlstrct.dst6\n",
    "    #dst8                = idlstrct.dst8\n",
    "    #dst10               = idlstrct.dst10\n",
    "    \n",
    "#    return dosday,flx8,flx6,flx10,area6,area8,area10,ar_area,mflx,tim,cut,satthr,dflxdt,str_brad,tim_maxnegrecrate,tim_maxposrecrate,maxnegrecrate,maxposrecrate,n_o_satpix,bcenx6,bceny6,bcenx8,bceny8,bcenx10,bceny10,dst6,dst8,dst10 \n",
    "#    return dosday,flx8,flx6,flx10,area6,area8,area10,ar_area,mflx,tim,cut,satthr,str_brad,tim_maxnegrecrate,tim_maxposrecrate,maxnegrecrate,maxposrecrate,n_o_satpix,bcenx6,bceny6,bcenx8,bceny8,bcenx10,bceny10,dst6,dst8,dst10 \n",
    "    return flx6,flx8,flx10,tim,n_o_satpix,area6,area8,area10,ar_area"
   ]
  },
  {
   "cell_type": "code",
   "execution_count": 5,
   "id": "7fef5806",
   "metadata": {},
   "outputs": [],
   "source": [
    "def utc2jd(tim): \n",
    "    '''\n",
    "    Written by Marcel \n",
    "    Oct. 2020\n",
    "    \n",
    "    Imput -- \n",
    "                tim -- UTC time from IDL sav file\n",
    "    Output -- \n",
    "                jdt -- Julian days converted from UTC time  \n",
    "                jst -- Julian days converted into seconds \n",
    "                js  -- Seconds from the start of the start date in Julian days\n",
    "                to  -- Time Object dates in UTC-ISOT format\n",
    "    '''\n",
    "    jdt = list(np.zeros(len(tim)))\n",
    "    jst = list(np.zeros(len(tim)))\n",
    "    js  = list(np.zeros(len(tim)))\n",
    "    sts = list(np.zeros(len(tim)))\n",
    "\n",
    "    for i in range(len(tim)): \n",
    "        utcstr = str(tim[i])\n",
    "        utcstr = utcstr.replace('b',\"\")\n",
    "        utcstr = utcstr.replace(\"'\",'') \n",
    "        sts[i] = utcstr # array of fotmatted dates which can be read by Astropy \n",
    "        jdt[i] = Time(utcstr,format='isot')\n",
    "        jdt[i] = jdt[i].jd\n",
    "        jst[i] = jdt[i] * 24 * 3600\n",
    "        js[i]  = jst[i] - jst[0]\n",
    "    jdt = np.array(jdt)\n",
    "    jst = np.array(jst)\n",
    "    js  = np.array(js)\n",
    "    to  = Time(sts,scale='utc',format='isot') \n",
    "    return jdt,jst,js,to"
   ]
  },
  {
   "cell_type": "code",
   "execution_count": 6,
   "id": "87d1fd56",
   "metadata": {},
   "outputs": [],
   "source": [
    "def extract_RDB(flare_data):\n",
    "    #extract all variables from RibbonDB IDL savefiles \n",
    "    rdbflx6,rdbflx8,rdbflx10,tim,n_o_satpix,area6,area8,area10,ar_area = extract_ribbon_vars(flare_data)\n",
    "    rdbflx = (rdbflx6+rdbflx10)/2 # reconnection flux in Maxwells\n",
    "   \n",
    "    #changes from utc to julian calander (in seconds; see ribbon_functions.py)\n",
    "    _,_,rdbt,rdbtt = utc2jd(tim)\n",
    "    \n",
    "    # Evaluate the reconnection rate\n",
    "    #   negative recflux = rflx[0,:]    \n",
    "    #   positive recflux = rflx[1,:]\n",
    "    rdbrflx  = recrate(rdbflx,rdbt[1]-rdbt[0]) # reconnection rate \n",
    "                                               # in units of Maxwells per second\n",
    "    \n",
    "    #conversion of time to minutes\n",
    "    rdbt = rdbt/60\n",
    "       \n",
    "    return rdbflx,rdbrflx,rdbt,rdbtt,area8,n_o_satpix,ar_area"
   ]
  },
  {
   "cell_type": "markdown",
   "id": "f3dbe0fb",
   "metadata": {},
   "source": [
    "# Selecting Data"
   ]
  },
  {
   "cell_type": "markdown",
   "id": "55664af9",
   "metadata": {},
   "source": [
    "## Define the Data Name"
   ]
  },
  {
   "cell_type": "code",
   "execution_count": 7,
   "id": "03f5f77d",
   "metadata": {},
   "outputs": [],
   "source": [
    "extrdbname = '20140910_1721_12158_X1.6'"
   ]
  },
  {
   "cell_type": "markdown",
   "id": "fc0f4655",
   "metadata": {},
   "source": [
    "## Define the Directories"
   ]
  },
  {
   "cell_type": "code",
   "execution_count": 8,
   "id": "e0cfe099",
   "metadata": {},
   "outputs": [],
   "source": [
    "# Final plot path \n",
    "outdir = '/Users/maco7096/WORKING/KAZACHENKO/VERONICA/FirstJob/QPPS_Kaz_Ver/MEDIA_OUT/'"
   ]
  },
  {
   "cell_type": "code",
   "execution_count": 9,
   "id": "33f2092a",
   "metadata": {},
   "outputs": [],
   "source": [
    "# Define directories with data\n",
    "datdir = '/Users/maco7096/WORKING/KAZACHENKO/VERONICA/FirstJob/QPPS_Kaz_Ver/DATA/'            #main data directory\n",
    "rdbdir = datdir + ''   #directory with RDB sav files"
   ]
  },
  {
   "cell_type": "markdown",
   "id": "8d13d8f7",
   "metadata": {},
   "source": [
    "# Retriving Data"
   ]
  },
  {
   "cell_type": "markdown",
   "id": "31904309",
   "metadata": {},
   "source": [
    "## Get the RDB file name"
   ]
  },
  {
   "cell_type": "code",
   "execution_count": 10,
   "id": "eb67fe80",
   "metadata": {},
   "outputs": [],
   "source": [
    "# Set filename string components\n",
    "sathr    = [5000.000,4500.000]\n",
    "bstr     = ['{:.2f}'.format(sathr[0]) + r\"_brad\",'{:.2f}'.format(sathr[1]) + r\"_brad\"]\n",
    "wvstr    = r\"\""
   ]
  },
  {
   "cell_type": "code",
   "execution_count": 11,
   "id": "aaae1f82",
   "metadata": {},
   "outputs": [],
   "source": [
    "# Automates the selection of variable bstr for each filename \n",
    "flarename   = check(rdbdir + \"recfile\"+extrdbname+r\"_cut08_sat\",bstr,wvstr) \n",
    "flare_data  = idlsave(flarename,verbose=0)"
   ]
  },
  {
   "cell_type": "markdown",
   "id": "d007102d",
   "metadata": {},
   "source": [
    "# Extract Data"
   ]
  },
  {
   "cell_type": "code",
   "execution_count": 12,
   "id": "adb2b7e6",
   "metadata": {},
   "outputs": [],
   "source": [
    "rdbflx,rdbrflx,rdbt,rdbtt,area8,n_o_satpix,ar_area = extract_RDB(flare_data)"
   ]
  },
  {
   "cell_type": "markdown",
   "id": "714f86ff",
   "metadata": {},
   "source": [
    "# This Notebook\n",
    "- Up to this point the notebook has the same information as the original notebook. \n",
    "- In this notebook we will focus only on the reconnection rate `rdbrflx` and time `rdbt` variables. \n",
    "- The notebook will show you how to use the [scipy.signal.find_peacks](https://docs.scipy.org/doc/scipy/reference/generated/scipy.signal.find_peaks.html#scipy.signal.find_peaks) function to characterize the reconnection rate burst period. "
   ]
  },
  {
   "cell_type": "markdown",
   "id": "e5453fc0",
   "metadata": {},
   "source": [
    "## Define the positive and negative reconnection rates"
   ]
  },
  {
   "cell_type": "code",
   "execution_count": 18,
   "id": "00b11649",
   "metadata": {},
   "outputs": [],
   "source": [
    "nrecrate = rdbrflx[0]\n",
    "precrate = rdbrflx[1]"
   ]
  },
  {
   "cell_type": "markdown",
   "id": "82e15445",
   "metadata": {},
   "source": [
    "## Evaluate the peaks"
   ]
  },
  {
   "cell_type": "code",
   "execution_count": 31,
   "id": "c011a6ff",
   "metadata": {},
   "outputs": [],
   "source": [
    "# remember that the find_peaks function gives you the indices at which the peaks are found\n",
    "positive_peaks = sig.find_peaks(precrate)\n",
    "negative_peaks = sig.find_peaks(np.abs(nrecrate))"
   ]
  },
  {
   "cell_type": "markdown",
   "id": "6d4ab954",
   "metadata": {},
   "source": [
    "## Evaluate the values of the reconnection rates peaks"
   ]
  },
  {
   "cell_type": "code",
   "execution_count": null,
   "id": "5d339783",
   "metadata": {},
   "outputs": [],
   "source": [
    "# you can use these indeces to get the reconnection rate peaks\n",
    "peaks_prate = precrate[positive_peaks[0]]\n",
    "peaks_nrate = nrecrate[negative_peaks[0]]"
   ]
  },
  {
   "cell_type": "markdown",
   "id": "5bf754ee",
   "metadata": {},
   "source": [
    "## Evaluate the times at which the reconnection rate peaks happen"
   ]
  },
  {
   "cell_type": "code",
   "execution_count": null,
   "id": "91c14900",
   "metadata": {},
   "outputs": [],
   "source": [
    "# you can use these indeces to get the time of the reconnection rate peaks\n",
    "peaks_ptime = rdbt[positive_peaks[0]]\n",
    "peaks_ntime = rdbt[negative_peaks[0]]"
   ]
  },
  {
   "cell_type": "markdown",
   "id": "47b0b1b0",
   "metadata": {},
   "source": [
    "## Plot the reconnection rates and their peaks"
   ]
  },
  {
   "cell_type": "code",
   "execution_count": 32,
   "id": "0f928783",
   "metadata": {},
   "outputs": [
    {
     "data": {
      "text/plain": [
       "[<matplotlib.lines.Line2D at 0x7fcc63d433d0>]"
      ]
     },
     "execution_count": 32,
     "metadata": {},
     "output_type": "execute_result"
    },
    {
     "data": {
      "image/png": "[encoded data removed]",
      "text/plain": [
       "<Figure size 432x288 with 1 Axes>"
      ]
     },
     "metadata": {
      "needs_background": "light"
     },
     "output_type": "display_data"
    }
   ],
   "source": [
    "plt.plot(rdbt,precrate,color = 'r', alpha = 0.5, linewidth = 2,zorder = 2)\n",
    "plt.plot(peaks_ptim,peaks_rate, 'ro',zorder = 1)\n",
    "\n",
    "plt.plot(rdbt,nrecrate,color = 'b', alpha = 0.5, linewidth = 2,zorder = 2)\n",
    "plt.plot(peaks_ntime,peaks_nrate, 'bo',zorder = 1)"
   ]
  },
  {
   "cell_type": "markdown",
   "id": "825695b9",
   "metadata": {},
   "source": [
    "## Evaluate the oscillation period based on the difference in peak time"
   ]
  },
  {
   "cell_type": "markdown",
   "id": "c1f32484",
   "metadata": {},
   "source": [
    "The oscillation period is approximated here as the time between peaks and is calculates as $\\tau_{osc.}(k) = t_{peak}(k) - t_{peak}(k-1)$, where $k$ are the indices for each of the peak identified with `find_peaks` "
   ]
  },
  {
   "cell_type": "code",
   "execution_count": 48,
   "id": "df4319fe",
   "metadata": {},
   "outputs": [
    {
     "data": {
      "text/plain": [
       "<matplotlib.legend.Legend at 0x7fcc63a552b0>"
      ]
     },
     "execution_count": 48,
     "metadata": {},
     "output_type": "execute_result"
    },
    {
     "data": {
      "image/png": "[encoded data removed]",
      "text/plain": [
       "<Figure size 432x288 with 1 Axes>"
      ]
     },
     "metadata": {
      "needs_background": "light"
     },
     "output_type": "display_data"
    }
   ],
   "source": [
    "# this is the oscillation period: \n",
    "# positive -- peaks_ptime[1:-1] - peaks_ptime[0:-2] \n",
    "# negative -- peaks_ntime[1:-1] - peaks_ntime[0:-2]\n",
    "plt.hist(peaks_ptime[1:-1] - peaks_ptime[0:-2],color = 'red',histtype = 'stepfilled',linewidth = 3,alpha = 0.5, label = 'postive')\n",
    "plt.hist(peaks_ntime[1:-1] - peaks_ntime[0:-2],color = 'blue',histtype = 'step',linewidth = 3, linestyle = 'dashed',label = 'negative')\n",
    "plt.ylabel('Counts [#]',fontsize = 18)\n",
    "plt.xlabel('Period [min]',fontsize = 18)\n",
    "plt.legend(fontsize = 18)"
   ]
  },
  {
   "cell_type": "markdown",
   "id": "84a19ecc",
   "metadata": {},
   "source": [
    "This histogram shows that the periods found with `find_peaks` have complicated distributions. Therefore we can use different statistics to quantify a global period for each of the signals: "
   ]
  },
  {
   "cell_type": "markdown",
   "id": "d1115b3f",
   "metadata": {},
   "source": [
    "### Using the `mean` as a global statistic"
   ]
  },
  {
   "cell_type": "code",
   "execution_count": 50,
   "id": "485307aa",
   "metadata": {},
   "outputs": [
    {
     "name": "stdout",
     "output_type": "stream",
     "text": [
      "The period of the positive reconnection rate is 2.123076923076923 minutes\n",
      "The period of the negative reconnection rate is 1.8482815797301546 minutes\n"
     ]
    }
   ],
   "source": [
    "print(f'The period of the positive reconnection rate is {np.mean(peaks_ptime[1:-1] - peaks_ptime[0:-2])} minutes')\n",
    "print(f'The period of the negative reconnection rate is {np.mean(peaks_ntime[1:-1] - peaks_ntime[0:-2])} minutes')"
   ]
  },
  {
   "cell_type": "markdown",
   "id": "cfa2fddf",
   "metadata": {},
   "source": [
    "### Using the `mode` as a global statistic\n",
    "- Here we will use the `scipy.statistics` module\n",
    "> -  binning might improve these results but as a rough approximation"
   ]
  },
  {
   "cell_type": "code",
   "execution_count": 55,
   "id": "e18d5da9",
   "metadata": {},
   "outputs": [
    {
     "name": "stdout",
     "output_type": "stream",
     "text": [
      "The period of the positive reconnection rate is 1.1999994913736955 minutes\n",
      "The period of the negative reconnection rate is 2.0 minutes\n"
     ]
    }
   ],
   "source": [
    "print(f'The period of the positive reconnection rate is {stats.mode(peaks_ptime[1:-1] - peaks_ptime[0:-2])[0][0]} minutes')\n",
    "print(f'The period of the negative reconnection rate is {stats.mode(peaks_ntime[1:-1] - peaks_ntime[0:-2])[0][0]} minutes')"
   ]
  },
  {
   "cell_type": "markdown",
   "id": "44c15246",
   "metadata": {},
   "source": [
    "# TASK: Create a fake oscillatory signal"
   ]
  },
  {
   "cell_type": "markdown",
   "id": "ed17f3ab",
   "metadata": {},
   "source": [
    "## Example\n",
    "### Create a toy sinosoidial function\n",
    "Components: \n",
    "- Period = $\\frac{1}{frequency}$\n",
    "- Amplitude \n",
    "- Shift or phase "
   ]
  },
  {
   "cell_type": "code",
   "execution_count": 107,
   "id": "c67fb678",
   "metadata": {},
   "outputs": [],
   "source": [
    "def sinosoid(t,frequency = 1/10, Amplitude = 1, shift = np.pi/10, option = 1): \n",
    "        if option == 1: \n",
    "            S = Amplitude * np.sin((2*np.pi)*t*frequency + shift)\n",
    "        if option == 2: \n",
    "            S = Amplitude * np.cos((2*np.pi)*t*frequency + shift)\n",
    "        return S"
   ]
  },
  {
   "cell_type": "markdown",
   "id": "b1fa7868",
   "metadata": {},
   "source": [
    "### Define the parameters of the sinosoids"
   ]
  },
  {
   "cell_type": "code",
   "execution_count": 109,
   "id": "896acd87",
   "metadata": {},
   "outputs": [],
   "source": [
    "A     = 1\n",
    "freq  = 1/100\n",
    "shift = 0 \n",
    "N     = 1000\n",
    "op    = 1 # option = 1, means that I'm using a sine function"
   ]
  },
  {
   "cell_type": "markdown",
   "id": "57e5b511",
   "metadata": {},
   "source": [
    "### Now we define a time series with the given paramets"
   ]
  },
  {
   "cell_type": "code",
   "execution_count": 110,
   "id": "9adf4e5a",
   "metadata": {
    "scrolled": true
   },
   "outputs": [],
   "source": [
    "t = np.arange(N) # time in seconds\n",
    "S = sinosoid(t,Amplitude = A,frequency = freq, shift = shift,option = op) # sine function"
   ]
  },
  {
   "cell_type": "markdown",
   "id": "797abb36",
   "metadata": {},
   "source": [
    "### Plot the original function"
   ]
  },
  {
   "cell_type": "code",
   "execution_count": 111,
   "id": "7c8d2342",
   "metadata": {},
   "outputs": [
    {
     "data": {
      "text/plain": [
       "[<matplotlib.lines.Line2D at 0x7fcc6715d8e0>]"
      ]
     },
     "execution_count": 111,
     "metadata": {},
     "output_type": "execute_result"
    },
    {
     "data": {
      "image/png": "[encoded data removed]",
      "text/plain": [
       "<Figure size 432x288 with 1 Axes>"
      ]
     },
     "metadata": {
      "needs_background": "light"
     },
     "output_type": "display_data"
    }
   ],
   "source": [
    "plt.plot(t,S)"
   ]
  },
  {
   "cell_type": "markdown",
   "id": "57ef0023",
   "metadata": {},
   "source": [
    "### Model noise: Extracting values from a Gaussian distribution\n",
    "- the Gaussian distribution from which the values are extracted are defined from the [numpy.random.normal](https://numpy.org/doc/stable/reference/random/generated/numpy.random.normal.html)\n",
    "- this fuction has one imput -- the mean (in this case 0, should remain like that for noise)\n",
    "- additionally you might want to play with the keywords:\n",
    "> - `scale` = standard devation (noise level)\n",
    "> - `size` = size of the array (should be the same as the length of the signal `S`"
   ]
  },
  {
   "cell_type": "code",
   "execution_count": 99,
   "id": "e6d6f23e",
   "metadata": {},
   "outputs": [],
   "source": [
    "# define noise with a standard deviation of a tenth of the amplitude of the sinusoidal function\n",
    "noise = np.random.normal(0,scale = A/10, size = N)"
   ]
  },
  {
   "cell_type": "code",
   "execution_count": 101,
   "id": "c541f240",
   "metadata": {},
   "outputs": [],
   "source": [
    "# Add the noise to the original function \n",
    "Sn = S + noise"
   ]
  },
  {
   "cell_type": "code",
   "execution_count": 102,
   "id": "c95c3b22",
   "metadata": {},
   "outputs": [
    {
     "data": {
      "text/plain": [
       "[<matplotlib.lines.Line2D at 0x7fcc65d694c0>]"
      ]
     },
     "execution_count": 102,
     "metadata": {},
     "output_type": "execute_result"
    },
    {
     "data": {
      "image/png": "[encoded data removed]",
      "text/plain": [
       "<Figure size 432x288 with 1 Axes>"
      ]
     },
     "metadata": {
      "needs_background": "light"
     },
     "output_type": "display_data"
    }
   ],
   "source": [
    "# plot the noise contaminated signal \n",
    "plt.plot(t,Sn)"
   ]
  },
  {
   "cell_type": "markdown",
   "id": "25c0d79d",
   "metadata": {},
   "source": [
    "## Your Work:\n",
    "1) Create your own sine and cosine functions with differen frequencies \n",
    "2) Create a function where the frequency of the signal depends on time \n",
    "3) Create a function that is a combination of 2 signals with different frequencies \n",
    "4) Create a function where you add a sine and a cosine functions with the same frequencies \n",
    "5) Plot all of these functions\n",
    "6) Add noise to these signals (1-4)\n",
    "7) Plot the noise contaminated functions -- use scale = {A,A/10,A/100} (3 different cases)\n",
    "6) Try to define the periods of these sign using the `;"
   ]
  }
 ],
 "metadata": {
  "kernelspec": {
   "display_name": "Python 3",
   "language": "python",
   "name": "python3"
  },
  "language_info": {
   "codemirror_mode": {
    "name": "ipython",
    "version": 3
   },
   "file_extension": ".py",
   "mimetype": "text/x-python",
   "name": "python",
   "nbconvert_exporter": "python",
   "pygments_lexer": "ipython3",
   "version": "3.8.8"
  },
  "toc": {
   "base_numbering": 1,
   "nav_menu": {},
   "number_sections": true,
   "sideBar": true,
   "skip_h1_title": false,
   "title_cell": "Table of Contents",
   "title_sidebar": "Contents",
   "toc_cell": false,
   "toc_position": {
    "height": "calc(100% - 180px)",
    "left": "10px",
    "top": "150px",
    "width": "165px"
   },
   "toc_section_display": true,
   "toc_window_display": true
  }
 },
 "nbformat": 4,
 "nbformat_minor": 5
}
