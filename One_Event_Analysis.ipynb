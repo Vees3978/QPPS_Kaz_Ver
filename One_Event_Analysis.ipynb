{
 "cells": [
  {
   "cell_type": "markdown",
   "id": "c1042786",
   "metadata": {},
   "source": [
    "# Functions"
   ]
  },
  {
   "cell_type": "markdown",
   "id": "9259e0dd",
   "metadata": {},
   "source": [
    "## Import Functions "
   ]
  },
  {
   "cell_type": "code",
   "execution_count": 15,
   "id": "660096e7",
   "metadata": {},
   "outputs": [],
   "source": [
    "# Use to embed images in Jupyter Notebook\n",
    "from IPython.display import Image\n",
    "\n",
    "# Importing necesary modules\n",
    "import sys\n",
    "import os\n",
    "import glob \n",
    "from os import listdir\n",
    "from pathlib import Path\n",
    "\n",
    "# Working with arrays \n",
    "import numpy as np\n",
    "\n",
    "# Working with fits files and WCS objects \n",
    "import astropy.units as u\n",
    "from astropy.time import Time \n",
    "\n",
    "# plotting and drawing modules \n",
    "from matplotlib import pyplot as plt\n",
    "import matplotlib as mpl\n",
    "\n",
    "#additional libraries needed for AFINO\n",
    "import scipy.optimize as opt \n",
    "import scipy.signal as sig\n",
    "\n",
    "# import reader for IDL files \n",
    "from scipy.io import readsav as idlsave\n",
    "\n",
    "# import stats library \n",
    "import scipy.stats as stats "
   ]
  },
  {
   "cell_type": "markdown",
   "id": "71035436",
   "metadata": {},
   "source": [
    "## Defined Functions"
   ]
  },
  {
   "cell_type": "markdown",
   "id": "c0bf495f",
   "metadata": {},
   "source": [
    "### Compute Magnetic Reconnection Flux Rate\n",
    "\n",
    "- Remember that the definition of the magnetic reconection flux is: \n",
    "$\\dot{\\Phi} \\approx \\frac{\\Phi[t_{k+1}] - \\Phi[t_{k-1}]}{t_{k+1} - t_{k-1}}$\n",
    "- This same operation can be achieved using numpy's [`gradient`](https://numpy.org/doc/stable/reference/generated/numpy.gradient.html) function"
   ]
  },
  {
   "cell_type": "code",
   "execution_count": 3,
   "id": "7111fa00",
   "metadata": {},
   "outputs": [],
   "source": [
    "# Define Reconnection Flux Rate  \n",
    "def recrate(flx,h):\n",
    "    '''Compute the difference formula for f'(a) with step size h.\n",
    "\n",
    "    Parameters\n",
    "    ----------\n",
    "    flx : array containing reconection flux \n",
    "    h: contant cadance beyween observations \n",
    "    Returns\n",
    "    -------\n",
    "    recrate: reconection flux(a+h) - reconection flux(a-h))/2h\n",
    "        [negative reconnection rate, positive reconnection rate] \n",
    "    '''    \n",
    "    \n",
    "    recrate    = np.zeros((2,len(flx[1,:])))\n",
    "    \n",
    "    nflux = flx[1] \n",
    "    pflux = flx[0]\n",
    "    recrate[1] = np.gradient(nflux,h,edge_order =2)\n",
    "    recrate[0] = np.gradient(pflux,h,edge_order =2)\n",
    "    \n",
    "    return recrate"
   ]
  },
  {
   "cell_type": "markdown",
   "id": "9ac30c34",
   "metadata": {},
   "source": [
    "### Check Name of File\n",
    "- In this case we are only checking to see it the file as formated exists within a given path"
   ]
  },
  {
   "cell_type": "code",
   "execution_count": 4,
   "id": "f417c07e",
   "metadata": {},
   "outputs": [],
   "source": [
    "# Check if .sav file exists \n",
    "def check(filename,bstr,wvstr):\n",
    "    '''\n",
    "    Written by Marcel \n",
    "    Oct. 21, 2020\n",
    "    \n",
    "    inputs: \n",
    "            filename -- name of the reconnection flux idl save file\n",
    "            bstr     -- \n",
    "                        BLOS - normal component taken as the line of sight\n",
    "                        BRAD - normal component taken as the radial magnatic field (B_r)\n",
    "            wvstr    -- \n",
    "    output: \n",
    "            savname  -- full filename with extension of the reconnection flux\n",
    "    '''\n",
    "    for i in range(len(bstr)): \n",
    "        if path.exists(filename+bstr[i]+wvstr+\".sav\" ) == True:\n",
    "            return  filename+bstr[i]+wvstr+\".sav\"\n",
    "        else: \n",
    "            print('File not found! This file does not exist.')"
   ]
  },
  {
   "cell_type": "markdown",
   "id": "44dd6f42",
   "metadata": {},
   "source": [
    "### Extract the Variables from the .sav file\n",
    "- We use the `scipy.io` function [`readsav`](https://docs.scipy.org/doc/scipy/reference/generated/scipy.io.readsav.html) imported here as `idlsave` to read the data in the `.sav` file creted in IDL. To access the variables within the structure you can use this fucntion or just call upon each variable with its key: `flx8 = idlstrct.flx8`. You can see all the keys of a given IDL structure object by using `idlstrct.keys()`. Notice that idlstrct is just a generic name for any IDL structure. "
   ]
  },
  {
   "cell_type": "code",
   "execution_count": 12,
   "id": "611fab9f",
   "metadata": {},
   "outputs": [],
   "source": [
    "def extract_ribbon_vars(idlstrct):\n",
    "    '''\n",
    "    Written by Marcel\n",
    "    Oct. 5, 2020\n",
    "    Inputs  --\n",
    "    Outputs --  OPTIONAL (*) \n",
    "                *dosday --?\n",
    "                flx6 -- magnetic reconnection flux for pixel area with I >= median(I)*6\n",
    "                flx8 -- magnetic reconnection flux for pixel area with I >= median(I)*8\n",
    "                flx10 -- magnetic reconnection flux for pixel area with I >= median(I)*10\n",
    "                * area6 --?\n",
    "                * area8 --? \n",
    "                * area10 --?\n",
    "                * ar_area --? \n",
    "                * mflx --?\n",
    "                tim -- UTC time from HMI \n",
    "                * cut --? \n",
    "                * sathr --? \n",
    "                * str_brad --? \n",
    "                * tim_maxnegrecrate --?    \n",
    "                * tim_maxposrecrate --?       \n",
    "                * maxnegrecrate --?        \n",
    "                * maxposrecrate --?         \n",
    "                n_o_satpix -- number of saturated points for a given AIA image          \n",
    "                * bcenx6 --?               \n",
    "                * bceny6 --?             \n",
    "                * bcenx8 --?            \n",
    "                * bceny8 --?            \n",
    "                * bcenx10 --?             \n",
    "                * bceny10 --?            \n",
    "                * dst6 --?                \n",
    "                * dst8 --?               \n",
    "                * dst10 --?               \n",
    "\n",
    "                \n",
    "    \n",
    "    Extract all the idl variables \n",
    "    '''\n",
    "    \n",
    "    flx6                = idlstrct.flx6 \n",
    "    flx8                = idlstrct.flx8\n",
    "    flx10               = idlstrct.flx10 \n",
    "    tim                 = list(idlstrct.tim) #object arrays are not suported by python  \n",
    "    n_o_satpix          = idlstrct.n_o_satpix\n",
    "    # These have been commented out because they are not used in the qpp analysis \n",
    "    #dosday              = idlstrct.dosday\n",
    "    area6               = idlstrct.area6 \n",
    "    area8               = idlstrct.area8 \n",
    "    area10              = idlstrct.area10 \n",
    "    ar_area             = idlstrct.ar_area  \n",
    "    #mflx                = idlstrct.mflx\n",
    "    #cut                 = idlstrct.cut\n",
    "    #satthr              = idlstrct.satthr\n",
    "    #dflxdt              = idlstrct.dflxdt\n",
    "    #str_brad            = idlstrct.str_brad\n",
    "\n",
    "    #tim_maxnegrecrate   = idlstrct.tim_maxnegrecrate \n",
    "    #tim_maxposrecrate   = idlstrct.tim_maxposrecrate   \n",
    "    #maxnegrecrate       = idlstrct.maxnegrecrate\n",
    "    #maxposrecrate       = idlstrct.maxposrecrate \n",
    "    #bcenx6              = idlstrct.bcenx6\n",
    "    #bceny6              = idlstrct.bceny6\n",
    "    #bcenx8              = idlstrct.bcenx8\n",
    "    #bceny8              = idlstrct.bceny8\n",
    "    #bcenx10             = idlstrct.bcenx10\n",
    "    #bceny10             = idlstrct.bceny10\n",
    "    #dst6                = idlstrct.dst6\n",
    "    #dst8                = idlstrct.dst8\n",
    "    #dst10               = idlstrct.dst10\n",
    "    \n",
    "#    return dosday,flx8,flx6,flx10,area6,area8,area10,ar_area,mflx,tim,cut,satthr,dflxdt,str_brad,tim_maxnegrecrate,tim_maxposrecrate,maxnegrecrate,maxposrecrate,n_o_satpix,bcenx6,bceny6,bcenx8,bceny8,bcenx10,bceny10,dst6,dst8,dst10 \n",
    "#    return dosday,flx8,flx6,flx10,area6,area8,area10,ar_area,mflx,tim,cut,satthr,str_brad,tim_maxnegrecrate,tim_maxposrecrate,maxnegrecrate,maxposrecrate,n_o_satpix,bcenx6,bceny6,bcenx8,bceny8,bcenx10,bceny10,dst6,dst8,dst10 \n",
    "    return flx6,flx8,flx10,tim,n_o_satpix,area6,area8,area10,ar_area"
   ]
  },
  {
   "cell_type": "markdown",
   "id": "ac360c58",
   "metadata": {},
   "source": [
    "### Extract time from RDB format\n",
    "- The RDB time format has a little bug when loading it from the IDL file in Python. \n",
    "- This little routine can help you get over that hurdle. "
   ]
  },
  {
   "cell_type": "code",
   "execution_count": null,
   "id": "7fef5806",
   "metadata": {},
   "outputs": [],
   "source": [
    "def utc2jd(tim): \n",
    "    '''\n",
    "    Written by Marcel \n",
    "    Oct. 2020\n",
    "    \n",
    "    Imput -- \n",
    "                tim -- UTC time from IDL sav file\n",
    "    Output -- \n",
    "                jdt -- Julian days converted from UTC time  \n",
    "                jst -- Julian days converted into seconds \n",
    "                js  -- Seconds from the start of the start date in Julian days\n",
    "                to  -- Time Object dates in UTC-ISOT format\n",
    "    '''\n",
    "    jdt = list(np.zeros(len(tim)))\n",
    "    jst = list(np.zeros(len(tim)))\n",
    "    js  = list(np.zeros(len(tim)))\n",
    "    sts = list(np.zeros(len(tim)))\n",
    "\n",
    "    for i in range(len(tim)): \n",
    "        utcstr = str(tim[i])\n",
    "        utcstr = utcstr.replace('b',\"\")\n",
    "        utcstr = utcstr.replace(\"'\",'') \n",
    "        sts[i] = utcstr\n",
    "        jdt[i] = at.Time(utcstr,format='isot')\n",
    "        jdt[i] = jdt[i].jd\n",
    "        jst[i] = jdt[i] * 24 * 3600\n",
    "        js[i]  = jst[i] - jst[0]\n",
    "    jdt = np.array(jdt)\n",
    "    jst = np.array(jst)\n",
    "    js  = np.array(js)\n",
    "    to  = Time(sts,scale='utc',format='isot') \n",
    "    return jdt,jst,js,to"
   ]
  },
  {
   "cell_type": "markdown",
   "id": "a2f7ee1d",
   "metadata": {},
   "source": [
    "### Define Reconection Flux/Rate related variables\n",
    "- Firts extract the variables using the `extract_ribbon_vars` function \n",
    "- Define the reconnection flux `rdbflx = ` $\\Phi(t) = \\frac{\\Phi_{10} + \\Phi_{6}}{2}$\n",
    "- Extract the time since the observations started recording in seconds `rdbt` and UTC format `rdbtt`, and convert the time from seconds to minutes. \n",
    "- Calculate the reconnection flux rate `rdbrflx =` $\\dot{\\Phi}$, using the `recrate` function"
   ]
  },
  {
   "cell_type": "code",
   "execution_count": null,
   "id": "87d1fd56",
   "metadata": {},
   "outputs": [],
   "source": [
    "def extract_RDB(flare_data):\n",
    "    #extract all variables from RibbonDB IDL savefiles \n",
    "    rdbflx6,rdbflx8,rdbflx10,tim,n_o_satpix,area6,area8,area10,ar_area = extract_ribbon_vars(flare_data)\n",
    "    rdbflx = (rdbflx6+rdbflx10)/2 # reconnection flux in Maxwells\n",
    "   \n",
    "    #changes from utc to julian calander (in seconds; see ribbon_functions.py)\n",
    "    _,_,rdbt,rdbtt = utc2jd(tim)\n",
    "    \n",
    "    # Evaluate the reconnection rate\n",
    "    #   negative recflux = rflx[0,:]    \n",
    "    #   positive recflux = rflx[1,:]\n",
    "    rdbrflx  = recrate(rdbflx,rdbt[1]-rdbt[0]) # reconnection rate \n",
    "                                               # in units of Maxwells per second\n",
    "    \n",
    "    #conversion of time to minutes\n",
    "    rdbt = rdbt/60\n",
    "       \n",
    "    return rdbflx,rdbrflx,rdbt,rdbtt,area8,n_o_satpix,ar_area"
   ]
  },
  {
   "cell_type": "markdown",
   "id": "f3dbe0fb",
   "metadata": {},
   "source": [
    "# Selecting Data"
   ]
  },
  {
   "cell_type": "markdown",
   "id": "55664af9",
   "metadata": {},
   "source": [
    "## Define the Data Name\n",
    "- Define the date of one of the .sav files, for example for a file named `recfile20100814_0938_11099_C4.4_cut08_sat5000.00_brad` we should only use the `20100814_0938_11099_C4.4` segment as the data name. "
   ]
  },
  {
   "cell_type": "code",
   "execution_count": 19,
   "id": "03f5f77d",
   "metadata": {},
   "outputs": [],
   "source": [
    "extrdbname = ''"
   ]
  },
  {
   "cell_type": "markdown",
   "id": "fc0f4655",
   "metadata": {},
   "source": [
    "## Define the Directories\n",
    "- Here use whatever is convenint to you. \n",
    "- For example `outdir = '/Users/macel/Pictures/'` will save the files in the Pictures sub-folder under my (marcel) user name.\n",
    "- You can always check what is you current directory/folder path in the terminal by using the command `pwd`\n",
    "- You can create a new diretory/folder in the terminal by using the command `mkdir folder_name`, where `folder_name` is a place holder for the actual name of the folder you want to create \n",
    "- You can move from one directory/folder to another by using the `cd path` command in your terminal. \n",
    "- -  Notice you can only move down sublevel with `cd path` \n",
    "- - If you want to up a level you must use `cd ../` you can also nest these to go up multiple level `cd ../../../../... ` will move you up as many levels as you have included the `../` section. \n",
    "- - You can also you specify you path from you `home_path` cd `home_path/path`. An example of my personal computer `home_path = /Users/`. From then on I have to spesify the user and whathever directories/subfolders I want to access for that given user.  "
   ]
  },
  {
   "cell_type": "code",
   "execution_count": 20,
   "id": "e0cfe099",
   "metadata": {},
   "outputs": [],
   "source": [
    "# Final plot path \n",
    "outdir = ''"
   ]
  },
  {
   "cell_type": "markdown",
   "id": "8fe0eb41",
   "metadata": {},
   "source": [
    "- Same idea as before but now for the directory in which you save all your data and then your ('.sav') files. \n",
    "- I have assumed that you have some kind of nested foulder with multiple data types but if not just leave the `''` in `rdbdir` blank and it should work for you \n"
   ]
  },
  {
   "cell_type": "code",
   "execution_count": 21,
   "id": "33f2092a",
   "metadata": {},
   "outputs": [],
   "source": [
    "# Define directories with data\n",
    "datdir = ''            #main data directory\n",
    "rdbdir = datdir + ''   #directory with RDB sav files"
   ]
  },
  {
   "cell_type": "markdown",
   "id": "8d13d8f7",
   "metadata": {},
   "source": [
    "# Retriving Data"
   ]
  },
  {
   "cell_type": "markdown",
   "id": "31904309",
   "metadata": {},
   "source": [
    "## Get the RDB file name\n",
    "- First just add the necesary components to create the full `.sav` file name"
   ]
  },
  {
   "cell_type": "code",
   "execution_count": 72,
   "id": "eb67fe80",
   "metadata": {},
   "outputs": [],
   "source": [
    "# Set filename string components\n",
    "sathr    = [5000.000,4500.000]\n",
    "bstr     = ['{:.2f}'.format(sathr[0]) + r\"_brad\",'{:.2f}'.format(sathr[1]) + r\"_brad\"]\n",
    "wvstr    = r\"\""
   ]
  },
  {
   "cell_type": "markdown",
   "id": "14613d33",
   "metadata": {},
   "source": [
    "- Now create the full flare name in the `flarename` string variable and check if it exist within the `rdbdir` path you defined above. \n",
    "- Afterwards get the IDL structure `flare_data` which has all the variables in the RDB `.sav` file. "
   ]
  },
  {
   "cell_type": "code",
   "execution_count": 7,
   "id": "aaae1f82",
   "metadata": {},
   "outputs": [],
   "source": [
    "# Automates the selection of variable bstr for each filename \n",
    "flarename   = rdb.check(rdbdir + \"/recfile\"+extrdbname+r\"_cut08_sat\",bstr,wvstr) \n",
    "flare_data  = idlsave(flarename,verbose=0)"
   ]
  },
  {
   "cell_type": "code",
   "execution_count": 13,
   "id": "626dc878",
   "metadata": {},
   "outputs": [
    {
     "data": {
      "text/plain": [
       "dict_keys(['dosday', 'flx8', 'flx6', 'flx10', 'area6', 'area8', 'area10', 'ar_area', 'mflx', 'tim', 'cut', 'satthr', 'dflxdt', 'str_brad', 'tim_maxnegrecrate', 'tim_maxposrecrate', 'maxnegrecrate', 'maxposrecrate', 'n_o_satpix', 'bcenx6', 'bceny6', 'bcenx8', 'bceny8', 'bcenx10', 'bceny10', 'dst6', 'dst8', 'dst10'])"
      ]
     },
     "execution_count": 13,
     "metadata": {},
     "output_type": "execute_result"
    }
   ],
   "source": [
    "# This will show you all of the different data variables in the IDL structure `flare_data`\n",
    "flare_data.keys()"
   ]
  },
  {
   "cell_type": "markdown",
   "id": "d007102d",
   "metadata": {},
   "source": [
    "## Extract Data"
   ]
  },
  {
   "cell_type": "markdown",
   "id": "e22d1941",
   "metadata": {},
   "source": [
    "- You can extract the variables directly and calculate the reconnection flux and rate using the equations from [Kazachenko et al. 2017](https://iopscience.iop.org/article/10.3847/1538-4357/aa7ed6) or use this routine."
   ]
  },
  {
   "cell_type": "code",
   "execution_count": 74,
   "id": "adb2b7e6",
   "metadata": {},
   "outputs": [],
   "source": [
    "rdbflx,rdbrflx,rdbt,rdbtn,rdbtt,area8,n_o_satpix,ar_area = extract_RDB(flare_data)"
   ]
  },
  {
   "cell_type": "markdown",
   "id": "f5c64e0a",
   "metadata": {},
   "source": [
    "# Your Task\n",
    "\n",
    "## Firts, recreate a plot - \n",
    "- I want you to recreate a plot like the one shown in the `recrateex.png` file\n",
    "- It must include: \n",
    "\n",
    "1) the Reconnection flux in units of Maxwells \n",
    "\n",
    "2) the reconnection flux rate in units of Maxwells per second\n",
    "\n",
    "3) time as the x-axis\n",
    "\n",
    "- DO NOT worry to much about axis labels and all that sort of stuff, we can work together to get some really nice formats to them, adding colors and all that sort of stuff as needed. "
   ]
  },
  {
   "cell_type": "code",
   "execution_count": 18,
   "id": "b7d19250",
   "metadata": {},
   "outputs": [
    {
     "data": {
      "image/png": "[encoded data removed]",
      "text/plain": [
       "<IPython.core.display.Image object>"
      ]
     },
     "execution_count": 18,
     "metadata": {},
     "output_type": "execute_result"
    }
   ],
   "source": [
    "Image(\"\"+ \"recrateex.png\") # path to where you have\n",
    "                           # downloaded the 'recrateex.png' image"
   ]
  },
  {
   "cell_type": "markdown",
   "id": "f35fe24e",
   "metadata": {},
   "source": [
    "## Expore\n",
    "- Feel free to create plots comparing some of the other variables included in the file, some of my ideas (do not need to answer them!): \n",
    "- How does the number of saturated pixels evolve over time? \n",
    "- What is the relationship between the reconnected flux and ribbon area? \n",
    "- What percentage of the active active region is accounted fro "
   ]
  }
 ],
 "metadata": {
  "kernelspec": {
   "display_name": "Python 3",
   "language": "python",
   "name": "python3"
  },
  "language_info": {
   "codemirror_mode": {
    "name": "ipython",
    "version": 3
   },
   "file_extension": ".py",
   "mimetype": "text/x-python",
   "name": "python",
   "nbconvert_exporter": "python",
   "pygments_lexer": "ipython3",
   "version": "3.8.8"
  },
  "toc": {
   "base_numbering": 1,
   "nav_menu": {},
   "number_sections": true,
   "sideBar": true,
   "skip_h1_title": false,
   "title_cell": "Table of Contents",
   "title_sidebar": "Contents",
   "toc_cell": false,
   "toc_position": {
    "height": "calc(100% - 180px)",
    "left": "10px",
    "top": "150px",
    "width": "338.8125px"
   },
   "toc_section_display": true,
   "toc_window_display": true
  }
 },
 "nbformat": 4,
 "nbformat_minor": 5
}
