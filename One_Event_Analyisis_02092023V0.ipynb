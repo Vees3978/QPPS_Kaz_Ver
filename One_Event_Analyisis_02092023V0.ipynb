{
 "cells": [
  {
   "cell_type": "markdown",
   "id": "444394ac",
   "metadata": {},
   "source": [
    "# Functions"
   ]
  },
  {
   "cell_type": "markdown",
   "id": "5d891e70",
   "metadata": {},
   "source": [
    "### First I need to imoprt the functions "
   ]
  },
  {
   "cell_type": "code",
   "execution_count": 16,
   "id": "91768a06",
   "metadata": {},
   "outputs": [],
   "source": [
    "#This will be used to embed images in Jupyter Notebook\n",
    "\n",
    "from IPython.display import Image\n",
    "#While importing this is important to capitalize the I and P in IPython.\n",
    "#if this is not done then this might be why there is an error\n",
    "\n",
    "\n",
    "#Importing modules\n",
    "\n",
    "\n",
    "import sys \n",
    "#this is used to manipulate variable and functions. \n",
    "#According to online resources this is helpful mostly for run time\n",
    "\n",
    "import os\n",
    "#This is useful when dealing with differnent directories in python.\n",
    "##It can remove, change, or help accese directories\n",
    "\n",
    "import glob\n",
    "#This can be helpful when trying to return a file path that follows \n",
    "#a specific parttern\n",
    "\n",
    "from os import listdir\n",
    "#Shows a file or list of all files and directories that is in a working directory\n",
    "\n",
    "from os import path\n",
    "#I am not sure what this one does\n",
    "\n",
    "\n",
    "\n",
    "#This is for arrays\n",
    "import numpy as np\n",
    "\n",
    "#For fit files and WCS objects\n",
    "import astropy.units as u\n",
    "from astropy.time import Time\n",
    "\n",
    "\n",
    "#plotting and drawing modules\n",
    "\n",
    "from matplotlib import pyplot as plt\n",
    "import matplotlib as mpl\n",
    "\n",
    "\n",
    "#additional libraroes needed for AFINO\n",
    "\n",
    "from scipy.io import readsav as idlsave\n",
    "\n",
    "#import stats librarry\n",
    "\n",
    "import scipy.stats as stats\n",
    "\n",
    "\n",
    "\n"
   ]
  },
  {
   "cell_type": "markdown",
   "id": "6704be1a",
   "metadata": {},
   "source": [
    "# Defined functions "
   ]
  },
  {
   "cell_type": "code",
   "execution_count": 74,
   "id": "a24e9bd2",
   "metadata": {},
   "outputs": [],
   "source": [
    "def recrate(flx, h): \n",
    "    '''compue the difference formula for f'(a) with step size h.\n",
    "    \n",
    "    parameters \n",
    "    -----------\n",
    "    flx : array that contains reconnection flux \n",
    "    h : contant cadance between observationss\n",
    "    \n",
    "    Returns\n",
    "    ---------\n",
    "    recreate: reconnection flux(a+h) - reconnection flux(a-h)/2h \n",
    "            [negative reconnection rates, posative reconnection rate]\n",
    "    '''\n",
    "    \n",
    "    recreate  = np.zeros((2, len(flx[1,:])))\n",
    "    \n",
    "    nflux       = flx[1]\n",
    "    pflux      = flx[0]\n",
    "    recreate[1] = np.gradient(nflux, h, edge_order = 2)\n",
    "    recreate[0] = np.gradient(pflux, h, edge_order = 2) \n",
    "    \n",
    "    return recreate\n"
   ]
  },
  {
   "cell_type": "markdown",
   "id": "2397a4ce",
   "metadata": {},
   "source": [
    "## Check Name of File"
   ]
  },
  {
   "cell_type": "code",
   "execution_count": 65,
   "id": "2951b2c8",
   "metadata": {},
   "outputs": [],
   "source": [
    "# Check if .sav file exists \n",
    "def check(filename,bstr,wvstr):\n",
    "    '''\n",
    "    \n",
    "    inputs: \n",
    "            filename -- name of the reconnection flux idl save file\n",
    "            bstr     -- \n",
    "                        BLOS - normal component taken as the line of sight\n",
    "                        BRAD - normal component taken as the radial magnatic field (B_r)\n",
    "            wvstr    -- \n",
    "    output: \n",
    "            savname  -- full filename with extension of the reconnection flux\n",
    "    '''\n",
    "    for i in range(len(bstr)): \n",
    "        if path.exists(filename+bstr[i]+wvstr+\".sav\" ) == True:\n",
    "            return  filename+bstr[i]+wvstr+\".sav\"\n",
    "        else: \n",
    "            print('File not found!')"
   ]
  },
  {
   "cell_type": "markdown",
   "id": "6a9522a6",
   "metadata": {},
   "source": [
    "## Extracting variables from the saved files "
   ]
  },
  {
   "cell_type": "code",
   "execution_count": 66,
   "id": "b60c4105",
   "metadata": {},
   "outputs": [],
   "source": [
    "def extract_ribbon_vars(idlstrct):\n",
    "    '''\n",
    "    Written by Marcel\n",
    "    Oct. 5, 2020\n",
    "    Inputs  --\n",
    "    Outputs --  OPTIONAL (*) \n",
    "                *dosday --?\n",
    "                flx6 -- magnetic reconnection flux for pixel area with I >= median(I)*6\n",
    "                flx8 -- magnetic reconnection flux for pixel area with I >= median(I)*8\n",
    "                flx10 -- magnetic reconnection flux for pixel area with I >= median(I)*10\n",
    "                * area6 --?\n",
    "                * area8 --? \n",
    "                * area10 --?\n",
    "                * ar_area --? \n",
    "                * mflx --?\n",
    "                tim -- UTC time from HMI \n",
    "                * cut --? \n",
    "                * sathr --? \n",
    "                * str_brad --? \n",
    "                * tim_maxnegrecrate --?    \n",
    "                * tim_maxposrecrate --?       \n",
    "                * maxnegrecrate --?        \n",
    "                * maxposrecrate --?         \n",
    "                n_o_satpix -- number of saturated points for a given AIA image          \n",
    "                * bcenx6 --?               \n",
    "                * bceny6 --?             \n",
    "                * bcenx8 --?            \n",
    "                * bceny8 --?            \n",
    "                * bcenx10 --?             \n",
    "                * bceny10 --?            \n",
    "                * dst6 --?                \n",
    "                * dst8 --?               \n",
    "                * dst10 --?               \n",
    "\n",
    "                \n",
    "    \n",
    "    Extract all the idl variables \n",
    "    '''\n",
    "    \n",
    "    flx6                = idlstrct.flx6 \n",
    "    flx8                = idlstrct.flx8\n",
    "    flx10               = idlstrct.flx10 \n",
    "    tim                 = list(idlstrct.tim) #object arrays are not suported by python  \n",
    "    n_o_satpix          = idlstrct.n_o_satpix\n",
    "    # These have been commented out because they are not used in the qpp analysis \n",
    "    #dosday              = idlstrct.dosday\n",
    "    area6               = idlstrct.area6 \n",
    "    area8               = idlstrct.area8 \n",
    "    area10              = idlstrct.area10 \n",
    "    ar_area             = idlstrct.ar_area  \n",
    "    #mflx                = idlstrct.mflx\n",
    "    #cut                 = idlstrct.cut\n",
    "    #satthr              = idlstrct.satthr\n",
    "    #dflxdt              = idlstrct.dflxdt\n",
    "    #str_brad            = idlstrct.str_brad\n",
    "\n",
    "    #tim_maxnegrecrate   = idlstrct.tim_maxnegrecrate \n",
    "    #tim_maxposrecrate   = idlstrct.tim_maxposrecrate   \n",
    "    #maxnegrecrate       = idlstrct.maxnegrecrate\n",
    "    #maxposrecrate       = idlstrct.maxposrecrate \n",
    "    #bcenx6              = idlstrct.bcenx6\n",
    "    #bceny6              = idlstrct.bceny6\n",
    "    #bcenx8              = idlstrct.bcenx8\n",
    "    #bceny8              = idlstrct.bceny8\n",
    "    #bcenx10             = idlstrct.bcenx10\n",
    "    #bceny10             = idlstrct.bceny10\n",
    "    #dst6                = idlstrct.dst6\n",
    "    #dst8                = idlstrct.dst8\n",
    "    #dst10               = idlstrct.dst10\n",
    "    \n",
    "#    return dosday,flx8,flx6,flx10,area6,area8,area10,ar_area,mflx,tim,cut,satthr,dflxdt,str_brad,tim_maxnegrecrate,tim_maxposrecrate,maxnegrecrate,maxposrecrate,n_o_satpix,bcenx6,bceny6,bcenx8,bceny8,bcenx10,bceny10,dst6,dst8,dst10 \n",
    "#    return dosday,flx8,flx6,flx10,area6,area8,area10,ar_area,mflx,tim,cut,satthr,str_brad,tim_maxnegrecrate,tim_maxposrecrate,maxnegrecrate,maxposrecrate,n_o_satpix,bcenx6,bceny6,bcenx8,bceny8,bcenx10,bceny10,dst6,dst8,dst10 \n",
    "    return flx6,flx8,flx10,tim,n_o_satpix,area6,area8,area10,ar_area"
   ]
  },
  {
   "cell_type": "code",
   "execution_count": 67,
   "id": "f52176d1",
   "metadata": {},
   "outputs": [],
   "source": [
    "def utc2jd(tim): \n",
    "    '''\n",
    "    Written by Marcel \n",
    "    Oct. 2020\n",
    "    \n",
    "    Imput -- \n",
    "                tim -- UTC time from IDL sav file\n",
    "    Output -- \n",
    "                jdt -- Julian days converted from UTC time  \n",
    "                jst -- Julian days converted into seconds \n",
    "                js  -- Seconds from the start of the start date in Julian days\n",
    "                to  -- Time Object dates in UTC-ISOT format\n",
    "    '''\n",
    "    jdt = list(np.zeros(len(tim)))\n",
    "    jst = list(np.zeros(len(tim)))\n",
    "    js  = list(np.zeros(len(tim)))\n",
    "    sts = list(np.zeros(len(tim)))\n",
    "\n",
    "    for i in range(len(tim)): \n",
    "        utcstr = str(tim[i])\n",
    "        utcstr = utcstr.replace('b',\"\")\n",
    "        utcstr = utcstr.replace(\"'\",'') \n",
    "        sts[i] = utcstr\n",
    "        jdt[i] = Time(utcstr,format='isot')\n",
    "        jdt[i] = jdt[i].jd\n",
    "        jst[i] = jdt[i] * 24 * 3600\n",
    "        js[i]  = jst[i] - jst[0]\n",
    "    jdt = np.array(jdt)\n",
    "    jst = np.array(jst)\n",
    "    js  = np.array(js)\n",
    "    to  = Time(sts,scale='utc',format='isot') \n",
    "    return jdt,jst,js,to"
   ]
  },
  {
   "cell_type": "markdown",
   "id": "e8c69a1d",
   "metadata": {},
   "source": [
    "## Defining the Reconnection flux/ rate related variables"
   ]
  },
  {
   "cell_type": "code",
   "execution_count": 68,
   "id": "353da920",
   "metadata": {},
   "outputs": [],
   "source": [
    "def extract_RDB(flare_data):\n",
    "    #extract all variables from RibbonDB IDL savefiles \n",
    "    rdbflx6,rdbflx8,rdbflx10,tim,n_o_satpix,area6,area8,area10,ar_area = extract_ribbon_vars(flare_data)\n",
    "    rdbflx = (rdbflx6+rdbflx10)/2 # reconnection flux in Maxwells\n",
    "   \n",
    "    #changes from utc to julian calander (in seconds; see ribbon_functions.py)\n",
    "    _,_,rdbt,rdbtt = utc2jd(tim)\n",
    "    \n",
    "    # Evaluate the reconnection rate\n",
    "    #   negative recflux = rflx[0,:]    \n",
    "    #   positive recflux = rflx[1,:]\n",
    "    rdbrflx  = recrate(rdbflx,rdbt[1]-rdbt[0]) # reconnection rate \n",
    "                                               # in units of Maxwells per second\n",
    "    \n",
    "    #conversion of time to minutes\n",
    "    rdbt = rdbt/60\n",
    "       \n",
    "    return rdbflx,rdbrflx,rdbt,rdbtt,area8,n_o_satpix,ar_area"
   ]
  },
  {
   "cell_type": "markdown",
   "id": "1fc67e5f",
   "metadata": {},
   "source": [
    "# Selecting Date"
   ]
  },
  {
   "cell_type": "markdown",
   "id": "4c04cba2",
   "metadata": {},
   "source": [
    "## This is where we Define the Data Name "
   ]
  },
  {
   "cell_type": "code",
   "execution_count": 69,
   "id": "2439696e",
   "metadata": {},
   "outputs": [],
   "source": [
    "ext = \"20140910_1721_12158_X1.6\" #this is the data that I am working with and "
   ]
  },
  {
   "cell_type": "markdown",
   "id": "c446e161",
   "metadata": {},
   "source": [
    "## Defining the Directories ( Did some of this with marcel) "
   ]
  },
  {
   "cell_type": "code",
   "execution_count": 70,
   "id": "6de61dca",
   "metadata": {},
   "outputs": [],
   "source": [
    "datadir =\"/Users/veronicaestrada/Downloads/Kazachenko/\"\n",
    "rdbdir  = datadir+'files/'"
   ]
  },
  {
   "cell_type": "markdown",
   "id": "25370de1",
   "metadata": {},
   "source": [
    "# Retriving Data"
   ]
  },
  {
   "cell_type": "markdown",
   "id": "1615c0ff",
   "metadata": {},
   "source": [
    "## Get the RDB file name"
   ]
  },
  {
   "cell_type": "code",
   "execution_count": 24,
   "id": "31956505",
   "metadata": {},
   "outputs": [],
   "source": [
    "sathr    = [5000.000,4500.000]\n",
    "bstr     = ['{:.2f}'.format(sathr[0]) + r\"_brad\",'{:.2f}'.format(sathr[1]) + r\"_brad\"]\n",
    "wvstr    = r\"\""
   ]
  },
  {
   "cell_type": "code",
   "execution_count": 26,
   "id": "7b821b13",
   "metadata": {},
   "outputs": [],
   "source": [
    "# Automates the selection of variable bstr for each filename \n",
    "flarename   = check(rdbdir + \"/recfile\"+ext+r\"_cut08_sat\",bstr,wvstr) \n",
    "flare_data  = idlsave(flarename,verbose=0)"
   ]
  },
  {
   "cell_type": "code",
   "execution_count": 27,
   "id": "0891c97c",
   "metadata": {},
   "outputs": [
    {
     "data": {
      "text/plain": [
       "dict_keys(['dosday', 'flx8', 'flx6', 'flx10', 'area6', 'area8', 'area10', 'ar_area', 'mflx', 'satflx', 'cumsatflx', 'tim', 'cut', 'satthr', 'dflxdt', 'str_brad', 'tim_maxnegrecrate', 'tim_maxposrecrate', 'maxnegrecrate', 'maxposrecrate', 'n_o_satpix', 'bcenx6', 'bceny6', 'bcenx8', 'bceny8', 'bcenx10', 'bceny10', 'dst6', 'dst8', 'dst10'])"
      ]
     },
     "execution_count": 27,
     "metadata": {},
     "output_type": "execute_result"
    }
   ],
   "source": [
    "# This will show you all of the different data variables in the IDL structure `flare_data`\n",
    "flare_data.keys()"
   ]
  },
  {
   "cell_type": "code",
   "execution_count": 30,
   "id": "6ba572bf",
   "metadata": {},
   "outputs": [
    {
     "data": {
      "text/plain": [
       "(3, 150)"
      ]
     },
     "execution_count": 30,
     "metadata": {},
     "output_type": "execute_result"
    }
   ],
   "source": [
    "flare_data.flx8.shape\n"
   ]
  },
  {
   "cell_type": "code",
   "execution_count": 48,
   "id": "3e168b51",
   "metadata": {},
   "outputs": [],
   "source": [
    "flx8_0=flare_data.flx8[0]\n",
    "flx8_1 =flare_data.flx8[1]\n",
    "flx8_2 = flare_data.flx8[2]"
   ]
  },
  {
   "cell_type": "code",
   "execution_count": 60,
   "id": "9f5281fd",
   "metadata": {},
   "outputs": [
    {
     "data": {
      "text/plain": [
       "<matplotlib.legend.Legend at 0x7f9402cde490>"
      ]
     },
     "execution_count": 60,
     "metadata": {},
     "output_type": "execute_result"
    },
    {
     "data": {
      "image/png": "[encoded data removed]",
      "text/plain": [
       "<Figure size 432x288 with 1 Axes>"
      ]
     },
     "metadata": {
      "needs_background": "light"
     },
     "output_type": "display_data"
    }
   ],
   "source": [
    "plt.plot(flx8_0, label = 'Negative RF',color ='blue' )\n",
    "plt.plot(flx8_1, label ='AVG signed ', color = 'black')\n",
    "plt.plot(flx8_2, label= 'Posative RF', color = 'red')\n",
    "plt.legend(loc = 'upper right')\n"
   ]
  },
  {
   "cell_type": "code",
   "execution_count": 76,
   "id": "afa819aa",
   "metadata": {},
   "outputs": [],
   "source": [
    "rdbflx,rdbrflx,rdbt,rdbtt,area8,n_o_satpix,ar_area = extract_RDB(flare_data)"
   ]
  },
  {
   "cell_type": "code",
   "execution_count": 78,
   "id": "add53e44",
   "metadata": {},
   "outputs": [
    {
     "data": {
      "text/plain": [
       "(3, 150)"
      ]
     },
     "execution_count": 78,
     "metadata": {},
     "output_type": "execute_result"
    }
   ],
   "source": [
    "flare_data.area8.shape"
   ]
  },
  {
   "cell_type": "code",
   "execution_count": 81,
   "id": "ca25908a",
   "metadata": {},
   "outputs": [],
   "source": [
    "area8_0=flare_data.area8[0]\n",
    "area8_1=flare_data.area8[1]\n",
    "area8_2=flare_data.area8[2]"
   ]
  },
  {
   "cell_type": "code",
   "execution_count": 83,
   "id": "5eb888a5",
   "metadata": {},
   "outputs": [
    {
     "data": {
      "text/plain": [
       "[<matplotlib.lines.Line2D at 0x7f94039585e0>]"
      ]
     },
     "execution_count": 83,
     "metadata": {},
     "output_type": "execute_result"
    },
    {
     "data": {
      "image/png": "[encoded data removed]",
      "text/plain": [
       "<Figure size 432x288 with 1 Axes>"
      ]
     },
     "metadata": {
      "needs_background": "light"
     },
     "output_type": "display_data"
    }
   ],
   "source": [
    "plt.plot(area8_0)\n",
    "plt.plot(area8_1)\n",
    "plt.plot(area8_2)"
   ]
  },
  {
   "cell_type": "code",
   "execution_count": 87,
   "id": "bf7ba0ed",
   "metadata": {},
   "outputs": [
    {
     "data": {
      "text/plain": [
       "array([0.0000000e+00, 1.3858006e+17, 1.9127951e+17, 2.3812348e+17,\n",
       "       3.1229309e+17, 3.8255902e+17, 4.9771710e+17, 6.3044169e+17,\n",
       "       7.3974428e+17, 9.7786771e+17, 1.2589315e+18, 1.4658256e+18,\n",
       "       1.7820225e+18, 2.0416161e+18, 2.2719321e+18, 2.4183195e+18,\n",
       "       2.6759614e+18, 2.8067341e+18, 3.0917016e+18, 3.3044511e+18,\n",
       "       3.4449830e+18, 3.5620930e+18, 3.7338541e+18, 3.8939045e+18,\n",
       "       3.9485557e+18, 4.0051588e+18, 4.0637139e+18, 4.1398353e+18,\n",
       "       4.1769199e+18, 4.2569451e+18, 4.3369703e+18, 4.5204425e+18,\n",
       "       4.7585659e+18, 4.9849785e+18, 5.0981847e+18, 5.1762578e+18,\n",
       "       5.2231019e+18, 5.3265489e+18, 5.3655854e+18, 5.4221888e+18,\n",
       "       5.4787917e+18, 5.5646723e+18, 5.6427459e+18, 5.7266744e+18,\n",
       "       5.8554954e+18, 5.9101466e+18, 5.9296651e+18, 5.9765087e+18,\n",
       "       6.0487268e+18, 6.0994742e+18, 6.2048734e+18, 6.4390930e+18,\n",
       "       6.5249737e+18, 6.5522993e+18, 6.5679140e+18, 6.6147582e+18,\n",
       "       6.6303723e+18, 6.6420838e+18, 6.6830719e+18, 6.8079891e+18,\n",
       "       6.8665441e+18, 6.9055806e+18, 6.9543764e+18, 6.9914613e+18,\n",
       "       7.0187869e+18, 7.0422092e+18, 7.0558718e+18, 7.0851496e+18,\n",
       "       7.1124752e+18, 7.1261377e+18, 7.1417524e+18, 7.1729819e+18,\n",
       "       7.1768857e+18, 7.1788373e+18, 7.1885966e+18, 7.1983558e+18,\n",
       "       7.2217776e+18, 7.2315369e+18, 7.2451994e+18, 7.2666696e+18,\n",
       "       7.2764289e+18, 7.3076583e+18, 7.3076583e+18, 7.3154654e+18,\n",
       "       7.3271763e+18, 7.3349839e+18, 7.3369355e+18, 7.3408394e+18,\n",
       "       7.3486464e+18, 7.3525503e+18, 7.3759721e+18, 7.3798759e+18,\n",
       "       7.3876835e+18, 7.3896351e+18, 7.3954906e+18, 7.4013460e+18,\n",
       "       7.4052498e+18, 7.4072015e+18, 7.4130569e+18, 7.4208646e+18,\n",
       "       7.4501418e+18, 7.4559973e+18, 7.4657565e+18, 7.4735642e+18,\n",
       "       7.4794196e+18, 7.4794196e+18, 7.4852751e+18, 7.4872267e+18,\n",
       "       7.4872267e+18, 7.4989376e+18, 7.5028414e+18, 7.5126007e+18,\n",
       "       7.5243116e+18, 7.5262632e+18, 7.5301670e+18, 7.5321186e+18,\n",
       "       7.5340708e+18, 7.5379741e+18, 7.5457817e+18, 7.5711557e+18,\n",
       "       7.5809144e+18, 7.5867699e+18, 7.5945775e+18, 7.5965291e+18,\n",
       "       7.5965291e+18, 7.5965291e+18, 7.5965291e+18, 7.5984813e+18,\n",
       "       7.6160477e+18, 7.6199515e+18, 7.6219031e+18, 7.6238547e+18,\n",
       "       7.6277586e+18, 7.6277586e+18, 7.6277586e+18, 7.6277586e+18,\n",
       "       7.6297102e+18, 7.6316624e+18, 7.6414216e+18, 7.6414216e+18,\n",
       "       7.6433733e+18, 7.6433733e+18, 7.6433733e+18, 7.6492287e+18,\n",
       "       7.6531325e+18, 7.6531325e+18, 7.6550842e+18, 7.6706989e+18,\n",
       "       7.6902174e+18, 7.6941207e+18], dtype=float32)"
      ]
     },
     "execution_count": 87,
     "metadata": {},
     "output_type": "execute_result"
    }
   ],
   "source": [
    "flare_data.area8[2]"
   ]
  },
  {
   "cell_type": "code",
   "execution_count": null,
   "id": "1c550660",
   "metadata": {},
   "outputs": [],
   "source": []
  }
 ],
 "metadata": {
  "kernelspec": {
   "display_name": "Python 3 (ipykernel)",
   "language": "python",
   "name": "python3"
  },
  "language_info": {
   "codemirror_mode": {
    "name": "ipython",
    "version": 3
   },
   "file_extension": ".py",
   "mimetype": "text/x-python",
   "name": "python",
   "nbconvert_exporter": "python",
   "pygments_lexer": "ipython3",
   "version": "3.9.12"
  }
 },
 "nbformat": 4,
 "nbformat_minor": 5
}
